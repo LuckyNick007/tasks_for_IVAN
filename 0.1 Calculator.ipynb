{
 "cells": [
  {
   "cell_type": "code",
   "execution_count": 13,
   "metadata": {},
   "outputs": [
    {
     "name": "stdout",
     "output_type": "stream",
     "text": [
      "3\n",
      "6\n",
      "+\n",
      "9.0\n"
     ]
    }
   ],
   "source": [
    "num1, num2, oper = float(input()), float(input()), input()\n",
    "\n",
    "def main(a, b, oper):\n",
    "    if oper == '+': return a + b\n",
    "    elif oper == '-': return a - b\n",
    "    elif oper == '/': return 'Division by 0!' if b == 0 else a / b\n",
    "    elif oper == '*': return a * b\n",
    "    elif oper == 'mod': return 'Division by 0!' if b == 0 else a % b\n",
    "    elif oper == 'pow': return a ** b\n",
    "    elif oper == 'div': return 'Division by 0!' if b == 0 else a // b\n",
    "\n",
    "print(main(num1, num2, oper))"
   ]
  },
  {
   "cell_type": "code",
   "execution_count": null,
   "metadata": {},
   "outputs": [],
   "source": []
  }
 ],
 "metadata": {
  "kernelspec": {
   "display_name": "Python 3",
   "language": "python",
   "name": "python3"
  },
  "language_info": {
   "codemirror_mode": {
    "name": "ipython",
    "version": 3
   },
   "file_extension": ".py",
   "mimetype": "text/x-python",
   "name": "python",
   "nbconvert_exporter": "python",
   "pygments_lexer": "ipython3",
   "version": "3.8.2"
  }
 },
 "nbformat": 4,
 "nbformat_minor": 2
}
